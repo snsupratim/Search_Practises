{
 "cells": [
  {
   "cell_type": "code",
   "execution_count": 1,
   "id": "d1109e58-3b6f-4a5e-b6e2-dcac00c08a12",
   "metadata": {},
   "outputs": [
    {
     "name": "stdout",
     "output_type": "stream",
     "text": [
      " | | \n",
      "-----\n",
      " | | \n",
      "-----\n",
      " | | \n",
      "-----\n"
     ]
    },
    {
     "name": "stdin",
     "output_type": "stream",
     "text": [
      "Player X, enter the row (0, 1, 2):  0\n",
      "Player X, enter the column (0, 1, 2):  0\n"
     ]
    },
    {
     "name": "stdout",
     "output_type": "stream",
     "text": [
      "X| | \n",
      "-----\n",
      " | | \n",
      "-----\n",
      " | | \n",
      "-----\n"
     ]
    },
    {
     "name": "stdin",
     "output_type": "stream",
     "text": [
      "Player O, enter the row (0, 1, 2):  1\n",
      "Player O, enter the column (0, 1, 2):  1\n"
     ]
    },
    {
     "name": "stdout",
     "output_type": "stream",
     "text": [
      "X| | \n",
      "-----\n",
      " |O| \n",
      "-----\n",
      " | | \n",
      "-----\n"
     ]
    },
    {
     "name": "stdin",
     "output_type": "stream",
     "text": [
      "Player X, enter the row (0, 1, 2):  2\n",
      "Player X, enter the column (0, 1, 2):  2\n"
     ]
    },
    {
     "name": "stdout",
     "output_type": "stream",
     "text": [
      "X| | \n",
      "-----\n",
      " |O| \n",
      "-----\n",
      " | |X\n",
      "-----\n"
     ]
    },
    {
     "name": "stdin",
     "output_type": "stream",
     "text": [
      "Player O, enter the row (0, 1, 2):  1\n",
      "Player O, enter the column (0, 1, 2):  0\n"
     ]
    },
    {
     "name": "stdout",
     "output_type": "stream",
     "text": [
      "X| | \n",
      "-----\n",
      "O|O| \n",
      "-----\n",
      " | |X\n",
      "-----\n"
     ]
    },
    {
     "name": "stdin",
     "output_type": "stream",
     "text": [
      "Player X, enter the row (0, 1, 2):  2\n",
      "Player X, enter the column (0, 1, 2):  1\n"
     ]
    },
    {
     "name": "stdout",
     "output_type": "stream",
     "text": [
      "X| | \n",
      "-----\n",
      "O|O| \n",
      "-----\n",
      " |X|X\n",
      "-----\n"
     ]
    },
    {
     "name": "stdin",
     "output_type": "stream",
     "text": [
      "Player O, enter the row (0, 1, 2):  0\n",
      "Player O, enter the column (0, 1, 2):  2\n"
     ]
    },
    {
     "name": "stdout",
     "output_type": "stream",
     "text": [
      "X| |O\n",
      "-----\n",
      "O|O| \n",
      "-----\n",
      " |X|X\n",
      "-----\n"
     ]
    },
    {
     "name": "stdin",
     "output_type": "stream",
     "text": [
      "Player X, enter the row (0, 1, 2):  2\n",
      "Player X, enter the column (0, 1, 2):  0\n"
     ]
    },
    {
     "name": "stdout",
     "output_type": "stream",
     "text": [
      "X| |O\n",
      "-----\n",
      "O|O| \n",
      "-----\n",
      "X|X|X\n",
      "-----\n",
      "Player X wins!\n"
     ]
    }
   ],
   "source": [
    "# Tic-Tac-Toe Game in Python\n",
    "\n",
    "# Function to print the Tic-Tac-Toe board\n",
    "def print_board(board):\n",
    "    for row in board:\n",
    "        print(\"|\".join(row))\n",
    "        print(\"-\" * 5)\n",
    "\n",
    "# Function to check if a player has won\n",
    "def check_win(board, player):\n",
    "    # Check rows, columns, and diagonals for a win\n",
    "    for row in board:\n",
    "        if all([cell == player for cell in row]):\n",
    "            return True\n",
    "    for col in range(3):\n",
    "        if all([board[row][col] == player for row in range(3)]):\n",
    "            return True\n",
    "    if all([board[i][i] == player for i in range(3)]) or all([board[i][2 - i] == player for i in range(3)]):\n",
    "        return True\n",
    "    return False\n",
    "\n",
    "# Function to check if the board is full (draw)\n",
    "def check_draw(board):\n",
    "    return all([cell != ' ' for row in board for cell in row])\n",
    "\n",
    "# Function to play the Tic-Tac-Toe game\n",
    "def play_game():\n",
    "    # Initialize the board\n",
    "    board = [[' ' for _ in range(3)] for _ in range(3)]\n",
    "    current_player = 'X'  # X will start the game\n",
    "\n",
    "    while True:\n",
    "        print_board(board)\n",
    "        row = int(input(f\"Player {current_player}, enter the row (0, 1, 2): \"))\n",
    "        col = int(input(f\"Player {current_player}, enter the column (0, 1, 2): \"))\n",
    "\n",
    "        # Check if the move is valid\n",
    "        if board[row][col] == ' ':\n",
    "            board[row][col] = current_player\n",
    "        else:\n",
    "            print(\"This position is already taken. Try again.\")\n",
    "            continue\n",
    "\n",
    "        # Check for a win or a draw\n",
    "        if check_win(board, current_player):\n",
    "            print_board(board)\n",
    "            print(f\"Player {current_player} wins!\")\n",
    "            break\n",
    "        elif check_draw(board):\n",
    "            print_board(board)\n",
    "            print(\"It's a draw!\")\n",
    "            break\n",
    "\n",
    "        # Switch players\n",
    "        current_player = 'O' if current_player == 'X' else 'X'\n",
    "\n",
    "# Start the game\n",
    "if __name__ == \"__main__\":\n",
    "    play_game()\n"
   ]
  },
  {
   "cell_type": "code",
   "execution_count": null,
   "id": "974cdb6f-2c24-4eb6-b031-28e006707e8b",
   "metadata": {},
   "outputs": [
    {
     "name": "stdout",
     "output_type": "stream",
     "text": [
      " | | \n",
      "-----\n",
      " | | \n",
      "-----\n",
      " | | \n",
      "-----\n"
     ]
    }
   ],
   "source": [
    "# Tic-Tac-Toe Game in Python\n",
    "\n",
    "# Function to print the Tic-Tac-Toe board\n",
    "def print_board(board):\n",
    "    for row in board:\n",
    "        print(\"|\".join(row))\n",
    "        print(\"-\" * 5)\n",
    "\n",
    "# Function to check if a player has won\n",
    "def check_win(board, player):\n",
    "    # Check rows, columns, and diagonals for a win\n",
    "    for row in board:\n",
    "        if all([cell == player for cell in row]):\n",
    "            return True\n",
    "    for col in range(3):\n",
    "        if all([board[row][col] == player for row in range(3)]):\n",
    "            return True\n",
    "    if all([board[i][i] == player for i in range(3)]) or all([board[i][2 - i] == player for i in range(3)]):\n",
    "        return True\n",
    "    return False\n",
    "\n",
    "# Function to check if the board is full (draw)\n",
    "def check_draw(board):\n",
    "    return all([cell != ' ' for row in board for cell in row])\n",
    "\n",
    "# Function to play the Tic-Tac-Toe game\n",
    "def play_game():\n",
    "    # Initialize the board\n",
    "    board = [[' ' for _ in range(3)] for _ in range(3)]\n",
    "    current_player = 'X'  # X will start the game\n",
    "\n",
    "    while True:\n",
    "        print_board(board)\n",
    "        row = int(input(f\"Player {current_player}, enter the row (0, 1, 2): \"))\n",
    "        col = int(input(f\"Player {current_player}, enter the column (0, 1, 2): \"))\n",
    "\n",
    "        # Check if the move is valid\n",
    "        if board[row][col] == ' ':\n",
    "            board[row][col] = current_player\n",
    "        else:\n",
    "            print(\"This position is already taken. Try again.\")\n",
    "            continue\n",
    "\n",
    "        # Check for a win or a draw\n",
    "        if check_win(board, current_player):\n",
    "            print_board(board)\n",
    "            print(f\"Player {current_player} wins!\")\n",
    "            break\n",
    "        elif check_draw(board):\n",
    "            print_board(board)\n",
    "            print(\"It's a draw!\")\n",
    "            break\n",
    "\n",
    "        # Switch players\n",
    "        current_player = 'O' if current_player == 'X' else 'X'\n",
    "\n",
    "# Start the game\n",
    "if __name__ == \"__main__\":\n",
    "    play_game()\n"
   ]
  },
  {
   "cell_type": "code",
   "execution_count": 11,
   "id": "38d087bc-c193-4820-9ec5-8eab409885ee",
   "metadata": {},
   "outputs": [
    {
     "name": "stdout",
     "output_type": "stream",
     "text": [
      " | | \n",
      "-----\n",
      " | | \n",
      "-----\n",
      " | | \n",
      "-----\n"
     ]
    },
    {
     "name": "stdin",
     "output_type": "stream",
     "text": [
      " row : (0,1,2) :  0\n",
      " col : (0,1,2) :  1\n"
     ]
    },
    {
     "name": "stdout",
     "output_type": "stream",
     "text": [
      " |X| \n",
      "-----\n",
      " | | \n",
      "-----\n",
      " | | \n",
      "-----\n"
     ]
    },
    {
     "name": "stdin",
     "output_type": "stream",
     "text": [
      " row : (0,1,2) :  1\n",
      " col : (0,1,2) :  2\n"
     ]
    },
    {
     "name": "stdout",
     "output_type": "stream",
     "text": [
      " |X| \n",
      "-----\n",
      " | |O\n",
      "-----\n",
      " | | \n",
      "-----\n"
     ]
    },
    {
     "name": "stdin",
     "output_type": "stream",
     "text": [
      " row : (0,1,2) :  1\n",
      " col : (0,1,2) :  1\n"
     ]
    },
    {
     "name": "stdout",
     "output_type": "stream",
     "text": [
      " |X| \n",
      "-----\n",
      " |X|O\n",
      "-----\n",
      " | | \n",
      "-----\n"
     ]
    },
    {
     "name": "stdin",
     "output_type": "stream",
     "text": [
      " row : (0,1,2) :  2\n",
      " col : (0,1,2) :  1\n"
     ]
    },
    {
     "name": "stdout",
     "output_type": "stream",
     "text": [
      " |X| \n",
      "-----\n",
      " |X|O\n",
      "-----\n",
      " |O| \n",
      "-----\n"
     ]
    },
    {
     "name": "stdin",
     "output_type": "stream",
     "text": [
      " row : (0,1,2) :  0\n",
      " col : (0,1,2) :  0\n"
     ]
    },
    {
     "name": "stdout",
     "output_type": "stream",
     "text": [
      "X|X| \n",
      "-----\n",
      " |X|O\n",
      "-----\n",
      " |O| \n",
      "-----\n"
     ]
    },
    {
     "name": "stdin",
     "output_type": "stream",
     "text": [
      " row : (0,1,2) :  0\n",
      " col : (0,1,2) :  2\n"
     ]
    },
    {
     "name": "stdout",
     "output_type": "stream",
     "text": [
      "X|X|O\n",
      "-----\n",
      " |X|O\n",
      "-----\n",
      " |O| \n",
      "-----\n"
     ]
    },
    {
     "name": "stdin",
     "output_type": "stream",
     "text": [
      " row : (0,1,2) :  2\n",
      " col : (0,1,2) :  2\n"
     ]
    },
    {
     "name": "stdout",
     "output_type": "stream",
     "text": [
      "X|X|O\n",
      "-----\n",
      " |X|O\n",
      "-----\n",
      " |O|X\n",
      "-----\n"
     ]
    },
    {
     "ename": "NameError",
     "evalue": "name 'current_palyer' is not defined",
     "output_type": "error",
     "traceback": [
      "\u001b[1;31m---------------------------------------------------------------------------\u001b[0m",
      "\u001b[1;31mNameError\u001b[0m                                 Traceback (most recent call last)",
      "Cell \u001b[1;32mIn[11], line 51\u001b[0m\n\u001b[0;32m     48\u001b[0m         current_player \u001b[38;5;241m=\u001b[39m \u001b[38;5;124m'\u001b[39m\u001b[38;5;124mO\u001b[39m\u001b[38;5;124m'\u001b[39m \u001b[38;5;28;01mif\u001b[39;00m current_player \u001b[38;5;241m==\u001b[39m \u001b[38;5;124m'\u001b[39m\u001b[38;5;124mX\u001b[39m\u001b[38;5;124m'\u001b[39m \u001b[38;5;28;01melse\u001b[39;00m \u001b[38;5;124m'\u001b[39m\u001b[38;5;124mX\u001b[39m\u001b[38;5;124m'\u001b[39m\n\u001b[0;32m     50\u001b[0m \u001b[38;5;28;01mif\u001b[39;00m \u001b[38;5;18m__name__\u001b[39m\u001b[38;5;241m==\u001b[39m\u001b[38;5;124m\"\u001b[39m\u001b[38;5;124m__main__\u001b[39m\u001b[38;5;124m\"\u001b[39m:\n\u001b[1;32m---> 51\u001b[0m     play_game()\n",
      "Cell \u001b[1;32mIn[11], line 40\u001b[0m, in \u001b[0;36mplay_game\u001b[1;34m()\u001b[0m\n\u001b[0;32m     38\u001b[0m \u001b[38;5;28;01mif\u001b[39;00m check_wins(board,current_player):\n\u001b[0;32m     39\u001b[0m     print_board(board)\n\u001b[1;32m---> 40\u001b[0m     \u001b[38;5;28mprint\u001b[39m(\u001b[38;5;124mf\u001b[39m\u001b[38;5;124m\"\u001b[39m\u001b[38;5;124m \u001b[39m\u001b[38;5;132;01m{\u001b[39;00mcurrent_palyer\u001b[38;5;132;01m}\u001b[39;00m\u001b[38;5;124m wins!\u001b[39m\u001b[38;5;124m\"\u001b[39m)\n\u001b[0;32m     41\u001b[0m     \u001b[38;5;28;01mbreak\u001b[39;00m\n\u001b[0;32m     42\u001b[0m \u001b[38;5;28;01melif\u001b[39;00m check_draw(board):\n",
      "\u001b[1;31mNameError\u001b[0m: name 'current_palyer' is not defined"
     ]
    }
   ],
   "source": [
    "def print_board(board):\n",
    "    for row in board:\n",
    "        print('|'.join(row))\n",
    "        print('-'*5)\n",
    "\n",
    "# Function to check if a player has won\n",
    "def check_win(board, player):\n",
    "    # Check rows, columns, and diagonals for a win\n",
    "    for row in board:\n",
    "        if all([cell == player for cell in row]):\n",
    "            return True\n",
    "    for col in range(3):\n",
    "        if all([board[row][col] == player for row in range(3)]):\n",
    "            return True\n",
    "    if all([board[i][i] == player for i in range(3)]) or all([board[i][2 - i] == player for i in range(3)]):\n",
    "        return True\n",
    "    return False\n",
    "\n",
    "def check_draw(board):\n",
    "    return all([cell != ' ' for row in board for cell in row])\n",
    "\n",
    "def play_game():\n",
    "    board=[[ ' ' for _ in range(3)]for _ in range(3)]\n",
    "    current_player='X'\n",
    "\n",
    "    while True:\n",
    "        print_board(board)\n",
    "        row=int(input(f\" row : (0,1,2) : \"))\n",
    "        col=int(input(f\" col : (0,1,2) : \"))\n",
    "\n",
    "         # Check if the move is valid\n",
    "        if board[row][col] == ' ':\n",
    "            board[row][col] = current_player\n",
    "        else:\n",
    "            print(\"This position is already taken. Try again.\")\n",
    "            continue\n",
    "\n",
    "        if check_wins(board,current_player):\n",
    "            print_board(board)\n",
    "            print(f\" {current_palyer} wins!\")\n",
    "            break\n",
    "        elif check_draw(board):\n",
    "            print_board(board)\n",
    "            print(f\"drawn!\")\n",
    "            break\n",
    "\n",
    "        # Switch players\n",
    "        current_player = 'O' if current_player == 'X' else 'X'\n",
    "\n",
    "if __name__==\"__main__\":\n",
    "    play_game()\n",
    "        \n",
    "    \n",
    "    "
   ]
  }
 ],
 "metadata": {
  "kernelspec": {
   "display_name": "Python 3 (ipykernel)",
   "language": "python",
   "name": "python3"
  },
  "language_info": {
   "codemirror_mode": {
    "name": "ipython",
    "version": 3
   },
   "file_extension": ".py",
   "mimetype": "text/x-python",
   "name": "python",
   "nbconvert_exporter": "python",
   "pygments_lexer": "ipython3",
   "version": "3.12.4"
  }
 },
 "nbformat": 4,
 "nbformat_minor": 5
}
